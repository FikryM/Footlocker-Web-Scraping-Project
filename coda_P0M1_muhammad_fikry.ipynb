{
 "cells": [
  {
   "cell_type": "markdown",
   "metadata": {},
   "source": [
    "## Biodata\n",
    "`Milestone 1`\n",
    "\n",
    "`Nama  : Muhammad Fikry Miftahuddin`\n",
    "\n",
    "`Batch : CODA-RMT-006`\n",
    "\n",
    "`Program ini dibuat untuk mengambil data dari website dengan Web Scraping menggunakan Pandas.`"
   ]
  },
  {
   "cell_type": "markdown",
   "metadata": {},
   "source": [
    "## Import Libraries"
   ]
  },
  {
   "cell_type": "code",
   "execution_count": 2,
   "metadata": {},
   "outputs": [],
   "source": [
    "import pandas as pd\n",
    "from bs4 import BeautifulSoup\n",
    "from selenium import webdriver\n",
    "import requests\n",
    "import time"
   ]
  },
  {
   "cell_type": "markdown",
   "metadata": {},
   "source": [
    "## Declare variabel yang diperlukan"
   ]
  },
  {
   "cell_type": "code",
   "execution_count": 3,
   "metadata": {},
   "outputs": [],
   "source": [
    "brand_name = []\n",
    "product_name = []\n",
    "product_price = []\n",
    "color = []"
   ]
  },
  {
   "cell_type": "markdown",
   "metadata": {},
   "source": [
    "## A. Extract"
   ]
  },
  {
   "cell_type": "markdown",
   "metadata": {},
   "source": [
    "#### code dibawah untuk mengambil seluruh data-data product yang masih raw"
   ]
  },
  {
   "cell_type": "code",
   "execution_count": 4,
   "metadata": {},
   "outputs": [],
   "source": [
    "driver = webdriver.Chrome()\n",
    "web_link = f'https://www.footlocker.id/men/shoes.html'\n",
    "driver.get(web_link)\n",
    "x = 0\n",
    "while True:\n",
    "    x += 1\n",
    "    driver.execute_script(\"scrollBy(0, 150)\")\n",
    "    time.sleep(0.5)\n",
    "    if x > 10:\n",
    "        break\n",
    "time.sleep(2)\n",
    "html = driver.page_source\n",
    "soup = BeautifulSoup(html, 'html.parser')\n",
    "for data in soup.find_all('div', {'class', 'product-item-info'}):\n",
    "    try:\n",
    "        brand_name.append(data.find('h3', {'class':'product-brand'}).get_text())\n",
    "    except:\n",
    "        brand_name.append(None)\n",
    "    try:\n",
    "        product_name.append(data.find('a', {'class':'product-item-link'}).get_text())\n",
    "    except:\n",
    "        product_name.append(None)\n",
    "    try:\n",
    "        element_fp = data.find('span', {'data-price-type':'finalPrice'})\n",
    "        if element_fp:\n",
    "            element_p = element_fp.find('span') \n",
    "            if element_p: \n",
    "                product_price.append(element_p.get_text()) \n",
    "            else: \n",
    "                product_price.append(None)  \n",
    "        else:\n",
    "            product_price.append(None)\n",
    "    except:\n",
    "        product_price.append(None)\n",
    "    try:\n",
    "        color.append(data.find('span', {'class':'value'}).get_text())\n",
    "    except:\n",
    "        color.append(None)\n",
    "driver.close()"
   ]
  },
  {
   "cell_type": "markdown",
   "metadata": {},
   "source": [
    "## B. Transform"
   ]
  },
  {
   "cell_type": "markdown",
   "metadata": {},
   "source": [
    "##### Membuat data frame yang original"
   ]
  },
  {
   "cell_type": "code",
   "execution_count": 6,
   "metadata": {},
   "outputs": [],
   "source": [
    "df_ori = pd.DataFrame()"
   ]
  },
  {
   "cell_type": "markdown",
   "metadata": {},
   "source": [
    "#### Memasukkan data yang ada kedalam data frame"
   ]
  },
  {
   "cell_type": "code",
   "execution_count": 7,
   "metadata": {},
   "outputs": [],
   "source": [
    "df_ori['brand'] = brand_name\n",
    "df_ori['product_name'] = product_name\n",
    "df_ori['price'] = product_price\n",
    "df_ori['color'] = color"
   ]
  },
  {
   "cell_type": "markdown",
   "metadata": {},
   "source": [
    "#### Membuat copy dari data frame ori, untuk dilakukan eksplorasi data"
   ]
  },
  {
   "cell_type": "code",
   "execution_count": 26,
   "metadata": {},
   "outputs": [],
   "source": [
    "df1 = df_ori.copy()"
   ]
  },
  {
   "cell_type": "markdown",
   "metadata": {},
   "source": [
    "#### Membersih kan kolom brand dan product_name agar tinggal characternya saja"
   ]
  },
  {
   "cell_type": "code",
   "execution_count": 30,
   "metadata": {},
   "outputs": [],
   "source": [
    "df1['brand'] = df1['brand'].str.replace('\\n', '')"
   ]
  },
  {
   "cell_type": "code",
   "execution_count": null,
   "metadata": {},
   "outputs": [],
   "source": [
    "df1['product_name'] = df1['product_name'].str.replace('\\n', '')\n",
    "df1['product_name'] = df1['product_name'].str.strip()"
   ]
  },
  {
   "cell_type": "markdown",
   "metadata": {},
   "source": [
    "#### Mengubah data di kolom price, yang tadinya Rp. 700.000 menjadi 700000. Dan merubah format data menjadi Int64"
   ]
  },
  {
   "cell_type": "code",
   "execution_count": null,
   "metadata": {},
   "outputs": [],
   "source": [
    "df1['price'] = df1['price'].str.replace('Rp.', '')\n",
    "df1['price'] = df1['price'].str.replace('.', '')\n",
    "df1['price'] = df1['price'].astype(int)"
   ]
  },
  {
   "cell_type": "markdown",
   "metadata": {},
   "source": [
    "#### Menampilkan kondisi struktur data"
   ]
  },
  {
   "cell_type": "code",
   "execution_count": 39,
   "metadata": {},
   "outputs": [
    {
     "name": "stdout",
     "output_type": "stream",
     "text": [
      "<class 'pandas.core.frame.DataFrame'>\n",
      "RangeIndex: 115 entries, 0 to 114\n",
      "Data columns (total 4 columns):\n",
      " #   Column        Non-Null Count  Dtype \n",
      "---  ------        --------------  ----- \n",
      " 0   brand         115 non-null    object\n",
      " 1   product_name  115 non-null    object\n",
      " 2   price         115 non-null    int64 \n",
      " 3   color         115 non-null    object\n",
      "dtypes: int64(1), object(3)\n",
      "memory usage: 3.7+ KB\n"
     ]
    }
   ],
   "source": [
    "df1.info()"
   ]
  },
  {
   "cell_type": "markdown",
   "metadata": {},
   "source": [
    "#### Menampilkan seluruh data"
   ]
  },
  {
   "cell_type": "code",
   "execution_count": 43,
   "metadata": {},
   "outputs": [
    {
     "data": {
      "text/html": [
       "<div>\n",
       "<style scoped>\n",
       "    .dataframe tbody tr th:only-of-type {\n",
       "        vertical-align: middle;\n",
       "    }\n",
       "\n",
       "    .dataframe tbody tr th {\n",
       "        vertical-align: top;\n",
       "    }\n",
       "\n",
       "    .dataframe thead th {\n",
       "        text-align: right;\n",
       "    }\n",
       "</style>\n",
       "<table border=\"1\" class=\"dataframe\">\n",
       "  <thead>\n",
       "    <tr style=\"text-align: right;\">\n",
       "      <th></th>\n",
       "      <th>brand</th>\n",
       "      <th>product_name</th>\n",
       "      <th>price</th>\n",
       "      <th>color</th>\n",
       "    </tr>\n",
       "  </thead>\n",
       "  <tbody>\n",
       "    <tr>\n",
       "      <th>0</th>\n",
       "      <td>ADIDAS</td>\n",
       "      <td>nmd_r1 primeblue men's sneakers - black</td>\n",
       "      <td>690000</td>\n",
       "      <td>Hitam</td>\n",
       "    </tr>\n",
       "    <tr>\n",
       "      <th>1</th>\n",
       "      <td>NIKE</td>\n",
       "      <td>dunk low retro men's basketball shoes - white</td>\n",
       "      <td>774500</td>\n",
       "      <td>Putih</td>\n",
       "    </tr>\n",
       "    <tr>\n",
       "      <th>2</th>\n",
       "      <td>NIKE</td>\n",
       "      <td>zoom vomero 5 men's sneakers shoes - white</td>\n",
       "      <td>1244500</td>\n",
       "      <td>Putih</td>\n",
       "    </tr>\n",
       "    <tr>\n",
       "      <th>3</th>\n",
       "      <td>NEW BALANCE</td>\n",
       "      <td>530 unisex sneakers shoes - silver</td>\n",
       "      <td>1119300</td>\n",
       "      <td>Abu-abu</td>\n",
       "    </tr>\n",
       "    <tr>\n",
       "      <th>4</th>\n",
       "      <td>NEW BALANCE</td>\n",
       "      <td>new balance 530 unisex sneakers shoes - white/...</td>\n",
       "      <td>1119300</td>\n",
       "      <td>Putih</td>\n",
       "    </tr>\n",
       "    <tr>\n",
       "      <th>...</th>\n",
       "      <td>...</td>\n",
       "      <td>...</td>\n",
       "      <td>...</td>\n",
       "      <td>...</td>\n",
       "    </tr>\n",
       "    <tr>\n",
       "      <th>110</th>\n",
       "      <td>NEW BALANCE</td>\n",
       "      <td>9060 unisex sneakers shoes - brown/black</td>\n",
       "      <td>1559400</td>\n",
       "      <td>Coklat</td>\n",
       "    </tr>\n",
       "    <tr>\n",
       "      <th>111</th>\n",
       "      <td>ADIDAS</td>\n",
       "      <td>adidas sl 72 rs men's sneakers - night indigo</td>\n",
       "      <td>960000</td>\n",
       "      <td>Biru</td>\n",
       "    </tr>\n",
       "    <tr>\n",
       "      <th>112</th>\n",
       "      <td>ASICS</td>\n",
       "      <td>asics ex89 unisex sneakers shoes - steeple grey</td>\n",
       "      <td>1199400</td>\n",
       "      <td>Abu-abu</td>\n",
       "    </tr>\n",
       "    <tr>\n",
       "      <th>113</th>\n",
       "      <td>ASICS</td>\n",
       "      <td>gel-kayano 14 unisex sneakers shoes - birch</td>\n",
       "      <td>2299000</td>\n",
       "      <td>Perak</td>\n",
       "    </tr>\n",
       "    <tr>\n",
       "      <th>114</th>\n",
       "      <td>ADIDAS</td>\n",
       "      <td>handball spezial men's sneakers shoes - light ...</td>\n",
       "      <td>1700000</td>\n",
       "      <td>Biru</td>\n",
       "    </tr>\n",
       "  </tbody>\n",
       "</table>\n",
       "<p>115 rows × 4 columns</p>\n",
       "</div>"
      ],
      "text/plain": [
       "           brand                                       product_name    price  \\\n",
       "0         ADIDAS            nmd_r1 primeblue men's sneakers - black   690000   \n",
       "1           NIKE      dunk low retro men's basketball shoes - white   774500   \n",
       "2           NIKE         zoom vomero 5 men's sneakers shoes - white  1244500   \n",
       "3    NEW BALANCE                 530 unisex sneakers shoes - silver  1119300   \n",
       "4    NEW BALANCE  new balance 530 unisex sneakers shoes - white/...  1119300   \n",
       "..           ...                                                ...      ...   \n",
       "110  NEW BALANCE           9060 unisex sneakers shoes - brown/black  1559400   \n",
       "111       ADIDAS      adidas sl 72 rs men's sneakers - night indigo   960000   \n",
       "112        ASICS    asics ex89 unisex sneakers shoes - steeple grey  1199400   \n",
       "113        ASICS        gel-kayano 14 unisex sneakers shoes - birch  2299000   \n",
       "114       ADIDAS  handball spezial men's sneakers shoes - light ...  1700000   \n",
       "\n",
       "       color  \n",
       "0      Hitam  \n",
       "1      Putih  \n",
       "2      Putih  \n",
       "3    Abu-abu  \n",
       "4      Putih  \n",
       "..       ...  \n",
       "110   Coklat  \n",
       "111     Biru  \n",
       "112  Abu-abu  \n",
       "113    Perak  \n",
       "114     Biru  \n",
       "\n",
       "[115 rows x 4 columns]"
      ]
     },
     "execution_count": 43,
     "metadata": {},
     "output_type": "execute_result"
    }
   ],
   "source": [
    "df1"
   ]
  },
  {
   "cell_type": "markdown",
   "metadata": {},
   "source": [
    "#### Menyimpan data kedalam file csv"
   ]
  },
  {
   "cell_type": "code",
   "execution_count": 44,
   "metadata": {},
   "outputs": [],
   "source": [
    "df1.to_csv('data_sepatu.csv', index=False)"
   ]
  },
  {
   "cell_type": "code",
   "execution_count": null,
   "metadata": {},
   "outputs": [],
   "source": [
    "df_ori.to_csv('data_sepatu_raw.csv', index=False) "
   ]
  }
 ],
 "metadata": {
  "kernelspec": {
   "display_name": "base",
   "language": "python",
   "name": "python3"
  },
  "language_info": {
   "codemirror_mode": {
    "name": "ipython",
    "version": 3
   },
   "file_extension": ".py",
   "mimetype": "text/x-python",
   "name": "python",
   "nbconvert_exporter": "python",
   "pygments_lexer": "ipython3",
   "version": "3.12.9"
  }
 },
 "nbformat": 4,
 "nbformat_minor": 2
}
